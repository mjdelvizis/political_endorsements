{
 "cells": [
  {
   "cell_type": "code",
   "execution_count": 1,
   "metadata": {},
   "outputs": [],
   "source": [
    "import numpy as np\n",
    "import pandas as pd\n",
    "import matplotlib.pyplot as plt\n",
    "from sklearn.model_selection import train_test_split\n",
    "import statsmodels.api as sm\n",
    "from sklearn.metrics import accuracy_score\n",
    "\n",
    "from sklearn.ensemble import RandomForestClassifier\n",
    "from sklearn.metrics import confusion_matrix, classification_report\n",
    "from sklearn.feature_selection import SelectKBest\n",
    "from sklearn.feature_selection import chi2\n",
    "from sklearn.linear_model import LogisticRegression as LR\n",
    "from sklearn.linear_model import LinearRegression"
   ]
  },
  {
   "cell_type": "code",
   "execution_count": 2,
   "metadata": {},
   "outputs": [],
   "source": [
    "data = pd.read_csv(\"final_q1_cleaned.csv\")\n",
    "data.drop('Unnamed: 0', axis = 1, inplace = True)"
   ]
  },
  {
   "cell_type": "code",
   "execution_count": 3,
   "metadata": {},
   "outputs": [],
   "source": [
    "data['received_endorsements?'].replace({False: 0, True: 1}, inplace=True)\n",
    "data['Challenger?(else_open)'].replace({False: 0, True: 1}, inplace=True)\n",
    "data['Republican?'].replace({False: 0, True: 1}, inplace=True)\n",
    "data.drop('Exempt_Legal_Accounting_Disbursement', axis=1, inplace=True)\n",
    "data = data.fillna(0)"
   ]
  },
  {
   "cell_type": "code",
   "execution_count": 4,
   "metadata": {},
   "outputs": [],
   "source": [
    "data = data[data['Cand_Office'] == 'H']"
   ]
  },
  {
   "cell_type": "code",
   "execution_count": 5,
   "metadata": {},
   "outputs": [],
   "source": [
    "data_12 = data[(data['num_candidates_in_race'] <= 2) & (data['num_candidates_in_race'] >= 1)]\n",
    "data_35 = data[(data['num_candidates_in_race'] <= 5) & (data['num_candidates_in_race'] >= 3)]\n",
    "data_69 = data[(data['num_candidates_in_race'] <= 9) & (data['num_candidates_in_race'] >= 6)]\n",
    "data_10 = data[data['num_candidates_in_race'] >= 10]"
   ]
  },
  {
   "cell_type": "code",
   "execution_count": null,
   "metadata": {},
   "outputs": [],
   "source": []
  },
  {
   "cell_type": "markdown",
   "metadata": {},
   "source": [
    "## IPW"
   ]
  },
  {
   "cell_type": "code",
   "execution_count": 6,
   "metadata": {},
   "outputs": [],
   "source": [
    "dem = data[data['Republican?'] == False]\n",
    "dem = dem.reset_index()\n",
    "rep = data[data['Republican?'] == True]\n",
    "rep = rep.reset_index()"
   ]
  },
  {
   "cell_type": "code",
   "execution_count": 7,
   "metadata": {},
   "outputs": [],
   "source": [
    "x_dem = dem[['district_lean', 'Endorsements', 'num_candidates_in_race',  'Total_Receipt', \n",
    "             'Total_Contribution', 'Challenger?(else_open)']]\n",
    "y_dem = dem['Primary %']\n",
    "z_dem = dem['received_endorsements?']"
   ]
  },
  {
   "cell_type": "code",
   "execution_count": 8,
   "metadata": {},
   "outputs": [],
   "source": [
    "lr_dem = LR(penalty='none', max_iter=200, random_state=0)"
   ]
  },
  {
   "cell_type": "code",
   "execution_count": 9,
   "metadata": {},
   "outputs": [
    {
     "data": {
      "text/plain": [
       "LogisticRegression(max_iter=200, penalty='none', random_state=0)"
      ]
     },
     "execution_count": 9,
     "metadata": {},
     "output_type": "execute_result"
    }
   ],
   "source": [
    "lr_dem.fit(x_dem, z_dem)"
   ]
  },
  {
   "cell_type": "code",
   "execution_count": 10,
   "metadata": {},
   "outputs": [],
   "source": [
    "def estimate_treatment_effect(lr, X, Y, Z, prop):\n",
    "    ex = prop\n",
    "    return np.mean(Z * Y / ex) - np.mean((1 - Z) * Y / (1 - ex))"
   ]
  },
  {
   "cell_type": "code",
   "execution_count": 11,
   "metadata": {},
   "outputs": [
    {
     "data": {
      "text/plain": [
       "-21.489203196613904"
      ]
     },
     "execution_count": 11,
     "metadata": {},
     "output_type": "execute_result"
    }
   ],
   "source": [
    "estimate_treatment_effect(lr_dem, x_dem, y_dem, z_dem, lr_dem.predict_proba(x_dem)[:, 1]) # no trimming"
   ]
  },
  {
   "cell_type": "code",
   "execution_count": 12,
   "metadata": {},
   "outputs": [],
   "source": [
    "dem['Propensity Scores'] = lr_dem.predict_proba(x_dem)[:, 1]"
   ]
  },
  {
   "cell_type": "code",
   "execution_count": 13,
   "metadata": {},
   "outputs": [],
   "source": [
    "trimmed_dem = dem[(dem['Propensity Scores'] > 0.1) & (dem['Propensity Scores'] < 0.9)]"
   ]
  },
  {
   "cell_type": "code",
   "execution_count": 14,
   "metadata": {},
   "outputs": [],
   "source": [
    "x_dem_trim = trimmed_dem[['district_lean', 'Endorsements', 'num_candidates_in_race',  'Total_Receipt', \n",
    "             'Total_Contribution', 'Challenger?(else_open)']]\n",
    "y_dem_trim = trimmed_dem['Primary %']\n",
    "z_dem_trim = trimmed_dem['received_endorsements?']"
   ]
  },
  {
   "cell_type": "code",
   "execution_count": 15,
   "metadata": {},
   "outputs": [
    {
     "data": {
      "text/plain": [
       "-21.380596123393747"
      ]
     },
     "execution_count": 15,
     "metadata": {},
     "output_type": "execute_result"
    }
   ],
   "source": [
    "estimate_treatment_effect(lr_dem, x_dem_trim, y_dem_trim, z_dem_trim, trimmed_dem['Propensity Scores'])"
   ]
  },
  {
   "cell_type": "code",
   "execution_count": null,
   "metadata": {},
   "outputs": [],
   "source": []
  },
  {
   "cell_type": "code",
   "execution_count": null,
   "metadata": {},
   "outputs": [],
   "source": []
  },
  {
   "cell_type": "code",
   "execution_count": 16,
   "metadata": {},
   "outputs": [],
   "source": [
    "x_rep = rep[['district_lean', 'Endorsements', 'num_candidates_in_race',  'Total_Receipt', \n",
    "             'Total_Contribution', 'Challenger?(else_open)']]\n",
    "y_rep = rep['Primary %'] \n",
    "z_rep = rep['received_endorsements?']"
   ]
  },
  {
   "cell_type": "code",
   "execution_count": 17,
   "metadata": {},
   "outputs": [],
   "source": [
    "lr_rep = LR(penalty='none', max_iter=200, random_state=0)"
   ]
  },
  {
   "cell_type": "code",
   "execution_count": 18,
   "metadata": {},
   "outputs": [
    {
     "data": {
      "text/plain": [
       "LogisticRegression(max_iter=200, penalty='none', random_state=0)"
      ]
     },
     "execution_count": 18,
     "metadata": {},
     "output_type": "execute_result"
    }
   ],
   "source": [
    "lr_rep.fit(x_rep, z_rep)"
   ]
  },
  {
   "cell_type": "code",
   "execution_count": 19,
   "metadata": {},
   "outputs": [],
   "source": [
    "rep['Propensity Scores'] = lr_rep.predict_proba(x_rep)[:, 1]"
   ]
  },
  {
   "cell_type": "code",
   "execution_count": 20,
   "metadata": {},
   "outputs": [],
   "source": [
    "trimmed_rep = rep[(rep['Propensity Scores'] > 0.1) & (rep['Propensity Scores'] < 0.9)]"
   ]
  },
  {
   "cell_type": "code",
   "execution_count": 21,
   "metadata": {},
   "outputs": [],
   "source": [
    "x_rep_trim = trimmed_rep[['district_lean', 'Endorsements', 'num_candidates_in_race',  'Total_Receipt', \n",
    "             'Total_Contribution', 'Challenger?(else_open)']]\n",
    "y_rep_trim = trimmed_rep['Primary %']\n",
    "z_rep_trim = trimmed_rep['received_endorsements?']"
   ]
  },
  {
   "cell_type": "code",
   "execution_count": 22,
   "metadata": {},
   "outputs": [
    {
     "data": {
      "text/plain": [
       "-41.754555299499174"
      ]
     },
     "execution_count": 22,
     "metadata": {},
     "output_type": "execute_result"
    }
   ],
   "source": [
    "estimate_treatment_effect(lr_rep, x_rep_trim, y_rep_trim, z_rep_trim, trimmed_rep['Propensity Scores'])"
   ]
  },
  {
   "cell_type": "code",
   "execution_count": null,
   "metadata": {},
   "outputs": [],
   "source": []
  },
  {
   "cell_type": "code",
   "execution_count": 23,
   "metadata": {
    "scrolled": true
   },
   "outputs": [
    {
     "data": {
      "text/plain": [
       "-38.84562263143313"
      ]
     },
     "execution_count": 23,
     "metadata": {},
     "output_type": "execute_result"
    }
   ],
   "source": [
    "estimate_treatment_effect(lr_rep, x_rep, y_rep, z_rep, lr_rep.predict_proba(x_rep)[:, 1]) # no trimming"
   ]
  },
  {
   "cell_type": "code",
   "execution_count": null,
   "metadata": {},
   "outputs": [],
   "source": []
  },
  {
   "cell_type": "code",
   "execution_count": null,
   "metadata": {},
   "outputs": [],
   "source": []
  },
  {
   "cell_type": "markdown",
   "metadata": {},
   "source": [
    "## Linear Regression"
   ]
  },
  {
   "cell_type": "code",
   "execution_count": 24,
   "metadata": {},
   "outputs": [],
   "source": [
    "def fit_OLS_model(df, target_variable, explanatory_variables, intercept = False):\n",
    "    target = df[target_variable]\n",
    "    inputs = df[explanatory_variables]\n",
    "    if intercept:\n",
    "        inputs = sm.add_constant(inputs)\n",
    "    \n",
    "    fitted_model = sm.OLS(target, inputs).fit()\n",
    "    return(fitted_model)"
   ]
  },
  {
   "cell_type": "code",
   "execution_count": 25,
   "metadata": {
    "scrolled": false
   },
   "outputs": [
    {
     "name": "stdout",
     "output_type": "stream",
     "text": [
      "                                 OLS Regression Results                                \n",
      "=======================================================================================\n",
      "Dep. Variable:              Primary %   R-squared (uncentered):                   0.542\n",
      "Model:                            OLS   Adj. R-squared (uncentered):              0.539\n",
      "Method:                 Least Squares   F-statistic:                              180.3\n",
      "Date:                Sun, 08 May 2022   Prob (F-statistic):                   1.32e-126\n",
      "Time:                        15:56:10   Log-Likelihood:                         -3697.3\n",
      "No. Observations:                 768   AIC:                                      7405.\n",
      "Df Residuals:                     763   BIC:                                      7428.\n",
      "Df Model:                           5                                                  \n",
      "Covariance Type:            nonrobust                                                  \n",
      "==========================================================================================\n",
      "                             coef    std err          t      P>|t|      [0.025      0.975]\n",
      "------------------------------------------------------------------------------------------\n",
      "district_lean              0.1595      0.042      3.775      0.000       0.077       0.242\n",
      "Endorsements               2.6081      0.844      3.088      0.002       0.950       4.266\n",
      "num_candidates_in_race     0.3674      0.133      2.769      0.006       0.107       0.628\n",
      "Total_Contribution      6.852e-06   8.69e-07      7.885      0.000    5.15e-06    8.56e-06\n",
      "Challenger?(else_open)    32.5617      1.575     20.678      0.000      29.470      35.653\n",
      "==============================================================================\n",
      "Omnibus:                       55.982   Durbin-Watson:                   1.258\n",
      "Prob(Omnibus):                  0.000   Jarque-Bera (JB):               66.420\n",
      "Skew:                           0.704   Prob(JB):                     3.78e-15\n",
      "Kurtosis:                       3.308   Cond. No.                     1.97e+06\n",
      "==============================================================================\n",
      "\n",
      "Notes:\n",
      "[1] R² is computed without centering (uncentered) since the model does not contain a constant.\n",
      "[2] Standard Errors assume that the covariance matrix of the errors is correctly specified.\n",
      "[3] The condition number is large, 1.97e+06. This might indicate that there are\n",
      "strong multicollinearity or other numerical problems.\n"
     ]
    }
   ],
   "source": [
    "first = fit_OLS_model(data, 'Primary %', ['district_lean', 'Endorsements', 'num_candidates_in_race', \n",
    "                                          'Total_Contribution', 'Challenger?(else_open)'])\n",
    "print(first.summary())"
   ]
  },
  {
   "cell_type": "code",
   "execution_count": null,
   "metadata": {},
   "outputs": [],
   "source": []
  },
  {
   "cell_type": "code",
   "execution_count": 26,
   "metadata": {},
   "outputs": [
    {
     "name": "stdout",
     "output_type": "stream",
     "text": [
      "                            OLS Regression Results                            \n",
      "==============================================================================\n",
      "Dep. Variable:              Primary %   R-squared:                       0.273\n",
      "Model:                            OLS   Adj. R-squared:                  0.269\n",
      "Method:                 Least Squares   F-statistic:                     71.50\n",
      "Date:                Sun, 08 May 2022   Prob (F-statistic):           1.89e-51\n",
      "Time:                        15:56:10   Log-Likelihood:                -3572.6\n",
      "No. Observations:                 768   AIC:                             7155.\n",
      "Df Residuals:                     763   BIC:                             7178.\n",
      "Df Model:                           4                                         \n",
      "Covariance Type:            nonrobust                                         \n",
      "==========================================================================================\n",
      "                             coef    std err          t      P>|t|      [0.025      0.975]\n",
      "------------------------------------------------------------------------------------------\n",
      "const                     44.6594      1.502     29.735      0.000      41.711      47.608\n",
      "district_lean              0.1768      0.036      4.935      0.000       0.106       0.247\n",
      "Endorsements               1.1983      0.723      1.658      0.098      -0.220       2.617\n",
      "num_candidates_in_race    -2.0870      0.153    -13.610      0.000      -2.388      -1.786\n",
      "Total_Contribution      4.666e-06    7.5e-07      6.225      0.000    3.19e-06    6.14e-06\n",
      "==============================================================================\n",
      "Omnibus:                       80.047   Durbin-Watson:                   1.463\n",
      "Prob(Omnibus):                  0.000   Jarque-Bera (JB):              103.966\n",
      "Skew:                           0.896   Prob(JB):                     2.66e-23\n",
      "Kurtosis:                       3.188   Cond. No.                     2.22e+06\n",
      "==============================================================================\n",
      "\n",
      "Notes:\n",
      "[1] Standard Errors assume that the covariance matrix of the errors is correctly specified.\n",
      "[2] The condition number is large, 2.22e+06. This might indicate that there are\n",
      "strong multicollinearity or other numerical problems.\n"
     ]
    },
    {
     "name": "stderr",
     "output_type": "stream",
     "text": [
      "/opt/conda/lib/python3.9/site-packages/statsmodels/tsa/tsatools.py:142: FutureWarning: In a future version of pandas all arguments of concat except for the argument 'objs' will be keyword-only\n",
      "  x = pd.concat(x[::order], 1)\n"
     ]
    }
   ],
   "source": [
    "features_second = ['district_lean', 'Endorsements', 'num_candidates_in_race', 'Total_Contribution',]\n",
    "second = fit_OLS_model(data, 'Primary %', features_second, True)\n",
    "print(second.summary())"
   ]
  },
  {
   "cell_type": "code",
   "execution_count": null,
   "metadata": {},
   "outputs": [],
   "source": []
  },
  {
   "cell_type": "code",
   "execution_count": 27,
   "metadata": {
    "scrolled": true
   },
   "outputs": [
    {
     "data": {
      "text/plain": [
       "10    47\n",
       "11    26\n",
       "12    22\n",
       "14    21\n",
       "32    20\n",
       "16    17\n",
       "13    16\n",
       "22    14\n",
       "18     8\n",
       "Name: num_candidates_in_race, dtype: int64"
      ]
     },
     "execution_count": 27,
     "metadata": {},
     "output_type": "execute_result"
    }
   ],
   "source": [
    "data_10['num_candidates_in_race'].value_counts()"
   ]
  },
  {
   "cell_type": "code",
   "execution_count": 28,
   "metadata": {
    "scrolled": false
   },
   "outputs": [
    {
     "name": "stdout",
     "output_type": "stream",
     "text": [
      "                                 OLS Regression Results                                \n",
      "=======================================================================================\n",
      "Dep. Variable:              Primary %   R-squared (uncentered):                   0.836\n",
      "Model:                            OLS   Adj. R-squared (uncentered):              0.830\n",
      "Method:                 Least Squares   F-statistic:                              151.5\n",
      "Date:                Sun, 08 May 2022   Prob (F-statistic):                    1.45e-56\n",
      "Time:                        15:56:10   Log-Likelihood:                         -750.40\n",
      "No. Observations:                 154   AIC:                                      1511.\n",
      "Df Residuals:                     149   BIC:                                      1526.\n",
      "Df Model:                           5                                                  \n",
      "Covariance Type:            nonrobust                                                  \n",
      "==========================================================================================\n",
      "                             coef    std err          t      P>|t|      [0.025      0.975]\n",
      "------------------------------------------------------------------------------------------\n",
      "district_lean              0.1763      0.077      2.301      0.023       0.025       0.328\n",
      "Endorsements               3.4057      1.914      1.779      0.077      -0.377       7.188\n",
      "num_candidates_in_race   -18.4654      4.705     -3.925      0.000     -27.762      -9.169\n",
      "Total_Contribution      6.916e-06   2.11e-06      3.284      0.001    2.76e-06    1.11e-05\n",
      "Challenger?(else_open)    93.8871      7.665     12.249      0.000      78.741     109.033\n",
      "==============================================================================\n",
      "Omnibus:                       33.427   Durbin-Watson:                   2.132\n",
      "Prob(Omnibus):                  0.000   Jarque-Bera (JB):              100.326\n",
      "Skew:                           0.805   Prob(JB):                     1.64e-22\n",
      "Kurtosis:                       6.611   Cond. No.                     4.72e+06\n",
      "==============================================================================\n",
      "\n",
      "Notes:\n",
      "[1] R² is computed without centering (uncentered) since the model does not contain a constant.\n",
      "[2] Standard Errors assume that the covariance matrix of the errors is correctly specified.\n",
      "[3] The condition number is large, 4.72e+06. This might indicate that there are\n",
      "strong multicollinearity or other numerical problems.\n"
     ]
    }
   ],
   "source": [
    "reg12 = fit_OLS_model(data_12, 'Primary %', ['district_lean', 'Endorsements', 'num_candidates_in_race', \n",
    "                                          'Total_Contribution', 'Challenger?(else_open)'])\n",
    "print(reg12.summary())"
   ]
  },
  {
   "cell_type": "code",
   "execution_count": 29,
   "metadata": {},
   "outputs": [
    {
     "name": "stdout",
     "output_type": "stream",
     "text": [
      "                                 OLS Regression Results                                \n",
      "=======================================================================================\n",
      "Dep. Variable:              Primary %   R-squared (uncentered):                   0.677\n",
      "Model:                            OLS   Adj. R-squared (uncentered):              0.670\n",
      "Method:                 Least Squares   F-statistic:                              94.61\n",
      "Date:                Sun, 08 May 2022   Prob (F-statistic):                    1.98e-53\n",
      "Time:                        15:56:10   Log-Likelihood:                         -1027.6\n",
      "No. Observations:                 231   AIC:                                      2065.\n",
      "Df Residuals:                     226   BIC:                                      2082.\n",
      "Df Model:                           5                                                  \n",
      "Covariance Type:            nonrobust                                                  \n",
      "==========================================================================================\n",
      "                             coef    std err          t      P>|t|      [0.025      0.975]\n",
      "------------------------------------------------------------------------------------------\n",
      "district_lean              0.1412      0.056      2.517      0.013       0.031       0.252\n",
      "Endorsements               2.1483      1.067      2.013      0.045       0.045       4.251\n",
      "num_candidates_in_race     5.0585      0.817      6.195      0.000       3.449       6.668\n",
      "Total_Contribution        8.3e-06   1.25e-06      6.652      0.000    5.84e-06    1.08e-05\n",
      "Challenger?(else_open)     4.8224      3.329      1.449      0.149      -1.737      11.382\n",
      "==============================================================================\n",
      "Omnibus:                       44.022   Durbin-Watson:                   1.473\n",
      "Prob(Omnibus):                  0.000   Jarque-Bera (JB):               74.745\n",
      "Skew:                           1.022   Prob(JB):                     5.88e-17\n",
      "Kurtosis:                       4.893   Cond. No.                     2.99e+06\n",
      "==============================================================================\n",
      "\n",
      "Notes:\n",
      "[1] R² is computed without centering (uncentered) since the model does not contain a constant.\n",
      "[2] Standard Errors assume that the covariance matrix of the errors is correctly specified.\n",
      "[3] The condition number is large, 2.99e+06. This might indicate that there are\n",
      "strong multicollinearity or other numerical problems.\n"
     ]
    }
   ],
   "source": [
    "reg35 = fit_OLS_model(data_35, 'Primary %', ['district_lean', 'Endorsements', 'num_candidates_in_race', \n",
    "                                          'Total_Contribution', 'Challenger?(else_open)'])\n",
    "print(reg35.summary())"
   ]
  },
  {
   "cell_type": "code",
   "execution_count": 30,
   "metadata": {},
   "outputs": [
    {
     "name": "stdout",
     "output_type": "stream",
     "text": [
      "                                 OLS Regression Results                                \n",
      "=======================================================================================\n",
      "Dep. Variable:              Primary %   R-squared (uncentered):                   0.598\n",
      "Model:                            OLS   Adj. R-squared (uncentered):              0.587\n",
      "Method:                 Least Squares   F-statistic:                              55.61\n",
      "Date:                Sun, 08 May 2022   Prob (F-statistic):                    3.27e-35\n",
      "Time:                        15:56:10   Log-Likelihood:                         -826.00\n",
      "No. Observations:                 192   AIC:                                      1662.\n",
      "Df Residuals:                     187   BIC:                                      1678.\n",
      "Df Model:                           5                                                  \n",
      "Covariance Type:            nonrobust                                                  \n",
      "==========================================================================================\n",
      "                             coef    std err          t      P>|t|      [0.025      0.975]\n",
      "------------------------------------------------------------------------------------------\n",
      "district_lean             -0.0383      0.075     -0.511      0.610      -0.186       0.110\n",
      "Endorsements               1.1815      1.125      1.050      0.295      -1.039       3.402\n",
      "num_candidates_in_race     2.4883      0.287      8.675      0.000       1.922       3.054\n",
      "Total_Contribution      5.093e-06      9e-07      5.661      0.000    3.32e-06    6.87e-06\n",
      "Challenger?(else_open)    -3.7574      2.471     -1.521      0.130      -8.632       1.117\n",
      "==============================================================================\n",
      "Omnibus:                       82.521   Durbin-Watson:                   1.623\n",
      "Prob(Omnibus):                  0.000   Jarque-Bera (JB):              348.431\n",
      "Skew:                           1.654   Prob(JB):                     2.18e-76\n",
      "Kurtosis:                       8.711   Cond. No.                     3.08e+06\n",
      "==============================================================================\n",
      "\n",
      "Notes:\n",
      "[1] R² is computed without centering (uncentered) since the model does not contain a constant.\n",
      "[2] Standard Errors assume that the covariance matrix of the errors is correctly specified.\n",
      "[3] The condition number is large, 3.08e+06. This might indicate that there are\n",
      "strong multicollinearity or other numerical problems.\n"
     ]
    }
   ],
   "source": [
    "reg69 = fit_OLS_model(data_69, 'Primary %', ['district_lean', 'Endorsements', 'num_candidates_in_race', \n",
    "                                          'Total_Contribution', 'Challenger?(else_open)'])\n",
    "print(reg69.summary())"
   ]
  },
  {
   "cell_type": "code",
   "execution_count": 31,
   "metadata": {},
   "outputs": [
    {
     "name": "stdout",
     "output_type": "stream",
     "text": [
      "                                 OLS Regression Results                                \n",
      "=======================================================================================\n",
      "Dep. Variable:              Primary %   R-squared (uncentered):                   0.515\n",
      "Model:                            OLS   Adj. R-squared (uncentered):              0.502\n",
      "Method:                 Least Squares   F-statistic:                              39.52\n",
      "Date:                Sun, 08 May 2022   Prob (F-statistic):                    1.49e-27\n",
      "Time:                        15:56:10   Log-Likelihood:                         -794.93\n",
      "No. Observations:                 191   AIC:                                      1600.\n",
      "Df Residuals:                     186   BIC:                                      1616.\n",
      "Df Model:                           5                                                  \n",
      "Covariance Type:            nonrobust                                                  \n",
      "==========================================================================================\n",
      "                             coef    std err          t      P>|t|      [0.025      0.975]\n",
      "------------------------------------------------------------------------------------------\n",
      "district_lean             -0.0063      0.051     -0.124      0.901      -0.107       0.094\n",
      "Endorsements               1.3826      0.939      1.472      0.143      -0.470       3.235\n",
      "num_candidates_in_race     0.5852      0.094      6.220      0.000       0.400       0.771\n",
      "Total_Contribution      7.857e-06    1.1e-06      7.136      0.000    5.68e-06       1e-05\n",
      "Challenger?(else_open)    -1.0940      4.593     -0.238      0.812     -10.155       7.967\n",
      "==============================================================================\n",
      "Omnibus:                       88.136   Durbin-Watson:                   1.412\n",
      "Prob(Omnibus):                  0.000   Jarque-Bera (JB):              486.596\n",
      "Skew:                           1.676   Prob(JB):                    2.17e-106\n",
      "Kurtosis:                      10.064   Cond. No.                     4.61e+06\n",
      "==============================================================================\n",
      "\n",
      "Notes:\n",
      "[1] R² is computed without centering (uncentered) since the model does not contain a constant.\n",
      "[2] Standard Errors assume that the covariance matrix of the errors is correctly specified.\n",
      "[3] The condition number is large, 4.61e+06. This might indicate that there are\n",
      "strong multicollinearity or other numerical problems.\n"
     ]
    }
   ],
   "source": [
    "reg10 = fit_OLS_model(data_10, 'Primary %', ['district_lean', 'Endorsements', 'num_candidates_in_race', \n",
    "                                          'Total_Contribution', 'Challenger?(else_open)'])\n",
    "print(reg10.summary())"
   ]
  },
  {
   "cell_type": "code",
   "execution_count": null,
   "metadata": {},
   "outputs": [],
   "source": []
  },
  {
   "cell_type": "code",
   "execution_count": null,
   "metadata": {},
   "outputs": [],
   "source": []
  }
 ],
 "metadata": {
  "kernelspec": {
   "display_name": "Python 3",
   "language": "python",
   "name": "python3"
  },
  "language_info": {
   "codemirror_mode": {
    "name": "ipython",
    "version": 3
   },
   "file_extension": ".py",
   "mimetype": "text/x-python",
   "name": "python",
   "nbconvert_exporter": "python",
   "pygments_lexer": "ipython3",
   "version": "3.8.5"
  }
 },
 "nbformat": 4,
 "nbformat_minor": 5
}
